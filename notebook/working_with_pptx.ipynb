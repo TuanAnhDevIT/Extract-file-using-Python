{
 "cells": [
  {
   "cell_type": "markdown",
   "metadata": {},
   "source": [
    "## Working With PPTX"
   ]
  },
  {
   "cell_type": "markdown",
   "metadata": {},
   "source": [
    "### 1. Module Import"
   ]
  },
  {
   "cell_type": "code",
   "execution_count": 4,
   "metadata": {},
   "outputs": [],
   "source": [
    "import os\n",
    "from pptx import Presentation\n",
    "from PIL import Image\n",
    "from io import BytesIO\n",
    "from pathlib import Path"
   ]
  },
  {
   "cell_type": "markdown",
   "metadata": {},
   "source": [
    "#### 2. Handling Data"
   ]
  },
  {
   "cell_type": "markdown",
   "metadata": {},
   "source": [
    "#### Path"
   ]
  },
  {
   "cell_type": "code",
   "execution_count": 5,
   "metadata": {},
   "outputs": [],
   "source": [
    "pptx_path = '../data_import/Networking.pptx'\n",
    "target_path = Path('../data_export/file_pptx')\n",
    "\n",
    "target_text_path = target_path / 'extracted_text'\n",
    "target_image_path = target_path / 'extracted_images'\n",
    "\n",
    "os.makedirs(target_text_path, exist_ok=True)\n",
    "os.makedirs(target_image_path, exist_ok=True)"
   ]
  },
  {
   "cell_type": "markdown",
   "metadata": {},
   "source": [
    "#### Extract Text"
   ]
  },
  {
   "cell_type": "code",
   "execution_count": 6,
   "metadata": {},
   "outputs": [
    {
     "name": "stdout",
     "output_type": "stream",
     "text": [
      "Text from slide 1 has been saved to ../data_export/file_pptx/extracted_text/slide_1.txt\n",
      "Text from slide 2 has been saved to ../data_export/file_pptx/extracted_text/slide_2.txt\n",
      "Text from slide 3 has been saved to ../data_export/file_pptx/extracted_text/slide_3.txt\n",
      "Text from slide 4 has been saved to ../data_export/file_pptx/extracted_text/slide_4.txt\n",
      "Text from slide 5 has been saved to ../data_export/file_pptx/extracted_text/slide_5.txt\n",
      "Text from slide 6 has been saved to ../data_export/file_pptx/extracted_text/slide_6.txt\n",
      "Text from slide 7 has been saved to ../data_export/file_pptx/extracted_text/slide_7.txt\n",
      "Text from slide 8 has been saved to ../data_export/file_pptx/extracted_text/slide_8.txt\n",
      "Text from slide 9 has been saved to ../data_export/file_pptx/extracted_text/slide_9.txt\n",
      "Text from slide 10 has been saved to ../data_export/file_pptx/extracted_text/slide_10.txt\n",
      "Text from slide 11 has been saved to ../data_export/file_pptx/extracted_text/slide_11.txt\n",
      "Text from slide 12 has been saved to ../data_export/file_pptx/extracted_text/slide_12.txt\n",
      "Text from slide 13 has been saved to ../data_export/file_pptx/extracted_text/slide_13.txt\n",
      "Text extraction completed successfully.\n"
     ]
    }
   ],
   "source": [
    "def extract_text(slide):\n",
    "    slide_text = \"\"\n",
    "    for shape in slide.shapes:\n",
    "        if hasattr(shape, \"text\"):\n",
    "            slide_text += shape.text + \"\\n\"\n",
    "    return slide_text\n",
    "\n",
    "prs = Presentation(pptx_path)\n",
    "\n",
    "for i, slide in enumerate(prs.slides):\n",
    "    slide_text = extract_text(slide)\n",
    "    text_file_path = os.path.join(target_text_path, f\"slide_{i + 1}.txt\")\n",
    "    with open(text_file_path, 'w', encoding='utf-8') as text_file:\n",
    "        text_file.write(slide_text)\n",
    "    print(f\"Text from slide {i + 1} has been saved to {text_file_path}\")\n",
    "\n",
    "print(\"Text extraction completed successfully.\")\n"
   ]
  },
  {
   "cell_type": "markdown",
   "metadata": {},
   "source": [
    "#### Extract Images"
   ]
  },
  {
   "cell_type": "code",
   "execution_count": 10,
   "metadata": {},
   "outputs": [
    {
     "name": "stdout",
     "output_type": "stream",
     "text": [
      "Saved image: ../data_export/file_pptx/extracted_images/slide_2_image_84.png\n",
      "Saved image: ../data_export/file_pptx/extracted_images/slide_2_image_85.png\n",
      "Saved image: ../data_export/file_pptx/extracted_images/slide_3_image_93.png\n",
      "Saved image: ../data_export/file_pptx/extracted_images/slide_5_image_107.png\n",
      "Saved image: ../data_export/file_pptx/extracted_images/slide_10_image_159.png\n",
      "Saved image: ../data_export/file_pptx/extracted_images/slide_10_image_160.png\n",
      "Saved image: ../data_export/file_pptx/extracted_images/slide_11_image_183.png\n",
      "Saved image: ../data_export/file_pptx/extracted_images/slide_11_image_184.png\n",
      "Saved image: ../data_export/file_pptx/extracted_images/slide_12_image_235.png\n",
      "Saved image: ../data_export/file_pptx/extracted_images/slide_12_image_239.png\n",
      "Saved image: ../data_export/file_pptx/extracted_images/slide_12_image_244.png\n",
      "Saved image: ../data_export/file_pptx/extracted_images/slide_13_image_272.png\n",
      "Saved image: ../data_export/file_pptx/extracted_images/slide_13_image_276.png\n",
      "Saved image: ../data_export/file_pptx/extracted_images/slide_13_image_281.png\n",
      "Image extraction completed successfully.\n"
     ]
    }
   ],
   "source": [
    "def extract_images(slide, slide_num):\n",
    "    for shape in slide.shapes:\n",
    "        if shape.shape_type == 13:  # Shape type 13 corresponds to pictures\n",
    "            image = shape.image\n",
    "            image_bytes = image.blob\n",
    "            img = Image.open(BytesIO(image_bytes))\n",
    "            image_path = os.path.join(target_image_path, f\"slide_{slide_num}_image_{shape.shape_id}.png\")\n",
    "            img.save(image_path)\n",
    "            print(f\"Saved image: {image_path}\")\n",
    "\n",
    "prs = Presentation(pptx_path)\n",
    "\n",
    "for i, slide in enumerate(prs.slides):\n",
    "    extract_images(slide, i + 1)\n",
    "\n",
    "print(\"Image extraction completed successfully.\")"
   ]
  },
  {
   "cell_type": "code",
   "execution_count": null,
   "metadata": {},
   "outputs": [],
   "source": []
  }
 ],
 "metadata": {
  "kernelspec": {
   "display_name": "myenv",
   "language": "python",
   "name": "python3"
  },
  "language_info": {
   "codemirror_mode": {
    "name": "ipython",
    "version": 3
   },
   "file_extension": ".py",
   "mimetype": "text/x-python",
   "name": "python",
   "nbconvert_exporter": "python",
   "pygments_lexer": "ipython3",
   "version": "3.11.1"
  }
 },
 "nbformat": 4,
 "nbformat_minor": 2
}
