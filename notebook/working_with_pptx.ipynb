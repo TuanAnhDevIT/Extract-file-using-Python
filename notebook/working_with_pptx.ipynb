{
 "cells": [
  {
   "cell_type": "markdown",
   "metadata": {},
   "source": [
    "## Working With PPTX"
   ]
  },
  {
   "cell_type": "markdown",
   "metadata": {},
   "source": [
    "### 1. Module Import"
   ]
  },
  {
   "cell_type": "code",
   "execution_count": 17,
   "metadata": {},
   "outputs": [],
   "source": [
    "import os\n",
    "from pptx import Presentation\n",
    "from PIL import Image\n",
    "from io import BytesIO\n",
    "from pathlib import Path\n",
    "from deep_translator import GoogleTranslator\n",
    "import shutil"
   ]
  },
  {
   "cell_type": "markdown",
   "metadata": {},
   "source": [
    "#### 2. Handling Data"
   ]
  },
  {
   "cell_type": "markdown",
   "metadata": {},
   "source": [
    "#### Path"
   ]
  },
  {
   "cell_type": "code",
   "execution_count": 18,
   "metadata": {},
   "outputs": [],
   "source": [
    "pptx_path = '../data_import/Networking.pptx'\n",
    "target_path = Path('../data_export/file_pptx')\n",
    "\n",
    "target_text_path = target_path / 'extracted_text'\n",
    "target_image_path = target_path / 'extracted_images'\n",
    "target_translate_path = target_path / 'translated_pptx'\n",
    "\n",
    "os.makedirs(target_text_path, exist_ok=True)\n",
    "os.makedirs(target_image_path, exist_ok=True)\n",
    "os.makedirs(target_translate_path, exist_ok=True)"
   ]
  },
  {
   "cell_type": "markdown",
   "metadata": {},
   "source": [
    "#### Extract Text"
   ]
  },
  {
   "cell_type": "code",
   "execution_count": 23,
   "metadata": {},
   "outputs": [
    {
     "name": "stdout",
     "output_type": "stream",
     "text": [
      "Extracted texts saved to: ../data_export/file_pptx/extracted_text/extracted_texts.txt\n"
     ]
    }
   ],
   "source": [
    "def extract_text_from_pptx(pptx_file):\n",
    "    prs = Presentation(pptx_file)\n",
    "    text_runs = []\n",
    "    for slide in prs.slides:\n",
    "        for shape in slide.shapes:\n",
    "            if not shape.has_text_frame:\n",
    "                continue\n",
    "            for paragraph in shape.text_frame.paragraphs:\n",
    "                for run in paragraph.runs:\n",
    "                    text_runs.append(run.text)\n",
    "    return text_runs\n",
    "\n",
    "def save_extracted_texts(texts, output_path):\n",
    "    with open(output_path, 'w', encoding='utf-8') as f:\n",
    "        for text in texts:\n",
    "            f.write(text + '\\n')\n",
    "\n",
    "extracted_texts = extract_text_from_pptx(pptx_path)\n",
    "\n",
    "extracted_texts_file = target_text_path / 'extracted_texts.txt'\n",
    "save_extracted_texts(extracted_texts, extracted_texts_file)\n",
    "\n",
    "print(f\"Extracted texts saved to: {extracted_texts_file}\")\n"
   ]
  },
  {
   "cell_type": "markdown",
   "metadata": {},
   "source": [
    "#### Extract Images"
   ]
  },
  {
   "cell_type": "code",
   "execution_count": 10,
   "metadata": {},
   "outputs": [
    {
     "name": "stdout",
     "output_type": "stream",
     "text": [
      "Saved image: ../data_export/file_pptx/extracted_images/slide_2_image_84.png\n",
      "Saved image: ../data_export/file_pptx/extracted_images/slide_2_image_85.png\n",
      "Saved image: ../data_export/file_pptx/extracted_images/slide_3_image_93.png\n",
      "Saved image: ../data_export/file_pptx/extracted_images/slide_5_image_107.png\n",
      "Saved image: ../data_export/file_pptx/extracted_images/slide_10_image_159.png\n",
      "Saved image: ../data_export/file_pptx/extracted_images/slide_10_image_160.png\n",
      "Saved image: ../data_export/file_pptx/extracted_images/slide_11_image_183.png\n",
      "Saved image: ../data_export/file_pptx/extracted_images/slide_11_image_184.png\n",
      "Saved image: ../data_export/file_pptx/extracted_images/slide_12_image_235.png\n",
      "Saved image: ../data_export/file_pptx/extracted_images/slide_12_image_239.png\n",
      "Saved image: ../data_export/file_pptx/extracted_images/slide_12_image_244.png\n",
      "Saved image: ../data_export/file_pptx/extracted_images/slide_13_image_272.png\n",
      "Saved image: ../data_export/file_pptx/extracted_images/slide_13_image_276.png\n",
      "Saved image: ../data_export/file_pptx/extracted_images/slide_13_image_281.png\n",
      "Image extraction completed successfully.\n"
     ]
    }
   ],
   "source": [
    "def extract_images(slide, slide_num):\n",
    "    for shape in slide.shapes:\n",
    "        if shape.shape_type == 13:  # Shape type 13 corresponds to pictures\n",
    "            image = shape.image\n",
    "            image_bytes = image.blob\n",
    "            img = Image.open(BytesIO(image_bytes))\n",
    "            image_path = os.path.join(target_image_path, f\"slide_{slide_num}_image_{shape.shape_id}.png\")\n",
    "            img.save(image_path)\n",
    "            print(f\"Saved image: {image_path}\")\n",
    "\n",
    "prs = Presentation(pptx_path)\n",
    "\n",
    "for i, slide in enumerate(prs.slides):\n",
    "    extract_images(slide, i + 1)\n",
    "\n",
    "print(\"Image extraction completed successfully.\")"
   ]
  },
  {
   "cell_type": "markdown",
   "metadata": {},
   "source": [
    "### Translated from English to German"
   ]
  },
  {
   "cell_type": "code",
   "execution_count": 26,
   "metadata": {},
   "outputs": [
    {
     "name": "stdout",
     "output_type": "stream",
     "text": [
      "Translated PPTX file saved to: ../data_export/file_pptx/translated_pptx/translated_pptx.pptx\n"
     ]
    }
   ],
   "source": [
    "pptx_path = Path('../data_import/Networking.pptx')\n",
    "\n",
    "copied_pptx_path = target_translate_path / pptx_path.name\n",
    "\n",
    "shutil.copyfile(pptx_path, copied_pptx_path)\n",
    "\n",
    "def read_extracted_texts(input_path):\n",
    "    with open(input_path, 'r', encoding='utf-8') as f:\n",
    "        texts = f.readlines()\n",
    "    return [text.strip() for text in texts]\n",
    "\n",
    "def translate_text(text, source_lang='auto', target_lang='german'):\n",
    "    translator = GoogleTranslator(source=source_lang, target=target_lang)\n",
    "    return translator.translate(text)\n",
    "\n",
    "def rebuild_pptx_with_translations(original_pptx, translated_texts, output_pptx):\n",
    "    prs = Presentation(original_pptx)\n",
    "    text_index = 0\n",
    "    for slide in prs.slides:\n",
    "        for shape in slide.shapes:\n",
    "            if not shape.has_text_frame:\n",
    "                continue\n",
    "            for paragraph in shape.text_frame.paragraphs:\n",
    "                for run in paragraph.runs:\n",
    "                    run.text = translated_texts[text_index]\n",
    "                    text_index += 1\n",
    "    prs.save(output_pptx)\n",
    "\n",
    "extracted_texts_file = target_text_path / 'extracted_texts.txt'\n",
    "extracted_texts = read_extracted_texts(extracted_texts_file)\n",
    "\n",
    "translated_texts = [translate_text(text) for text in extracted_texts]\n",
    "\n",
    "output_path = target_translate_path / 'translated_pptx.pptx'\n",
    "rebuild_pptx_with_translations(copied_pptx_path, translated_texts, output_path)\n",
    "\n",
    "print(f\"Translated PPTX file saved to: {output_path}\")"
   ]
  },
  {
   "cell_type": "code",
   "execution_count": null,
   "metadata": {},
   "outputs": [],
   "source": []
  }
 ],
 "metadata": {
  "kernelspec": {
   "display_name": "myenv",
   "language": "python",
   "name": "python3"
  },
  "language_info": {
   "codemirror_mode": {
    "name": "ipython",
    "version": 3
   },
   "file_extension": ".py",
   "mimetype": "text/x-python",
   "name": "python",
   "nbconvert_exporter": "python",
   "pygments_lexer": "ipython3",
   "version": "3.11.1"
  }
 },
 "nbformat": 4,
 "nbformat_minor": 2
}
