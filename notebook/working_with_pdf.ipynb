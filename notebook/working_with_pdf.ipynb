{
 "cells": [
  {
   "cell_type": "markdown",
   "metadata": {},
   "source": [
    "# Working With PDF"
   ]
  },
  {
   "cell_type": "markdown",
   "metadata": {},
   "source": [
    "## 1. Module import"
   ]
  },
  {
   "cell_type": "code",
   "execution_count": 10,
   "metadata": {},
   "outputs": [],
   "source": [
    "from pypdf import PdfReader\n",
    "import json\n",
    "import fitz \n",
    "from pdf2image import convert_from_path\n",
    "import os\n",
    "from pathlib import Path\n",
    "from reportlab.lib.pagesizes import letter\n",
    "from reportlab.pdfgen import canvas\n",
    "import math\n"
   ]
  },
  {
   "cell_type": "markdown",
   "metadata": {},
   "source": [
    "## 2. Handling data"
   ]
  },
  {
   "cell_type": "markdown",
   "metadata": {},
   "source": [
    "#### PATH"
   ]
  },
  {
   "cell_type": "code",
   "execution_count": 11,
   "metadata": {},
   "outputs": [],
   "source": [
    "pdf_path = '../data_import/pdf_mock_file.pdf'\n",
    "target_path = Path('../data_export/file_pdf')\n",
    "\n",
    "target_text_path = target_path / 'extracted_text'\n",
    "target_image_path = target_path / 'extracted_images'\n",
    "target_paragraph_details_path = target_path / \"extracted_paragraph_details\"\n",
    "target_convert_uppercase_path = target_path / \"convert_uppercase\"\n",
    "\n",
    "os.makedirs(target_text_path, exist_ok=True)\n",
    "os.makedirs(target_image_path, exist_ok=True)\n",
    "os.makedirs(target_paragraph_details_path, exist_ok=True)\n",
    "os.makedirs(target_convert_uppercase_path, exist_ok=True)"
   ]
  },
  {
   "cell_type": "markdown",
   "metadata": {},
   "source": [
    "#### Extract Text"
   ]
  },
  {
   "cell_type": "code",
   "execution_count": 12,
   "metadata": {},
   "outputs": [
    {
     "name": "stdout",
     "output_type": "stream",
     "text": [
      "All text extracted and saved to ../data_export/file_pdf/extracted_text/extracted_text.txt\n"
     ]
    }
   ],
   "source": [
    "document = fitz.open(pdf_path)\n",
    "\n",
    "output_text_path = target_text_path / \"extracted_text.txt\"\n",
    "\n",
    "with open(output_text_path, 'w', encoding='utf-8') as f:\n",
    "    for page_num in range(len(document)):\n",
    "        page = document.load_page(page_num)\n",
    "        blocks = page.get_text(\"dict\")[\"blocks\"]  \n",
    "        for block in blocks:\n",
    "            if block['type'] == 0: \n",
    "                text = block[\"lines\"]\n",
    "                for line in text:\n",
    "                    for span in line[\"spans\"]:\n",
    "                        f.write(span[\"text\"])\n",
    "                f.write(\"\\n\")\n",
    "        f.write(\"\\n\\n\")\n",
    "\n",
    "print(f\"All text extracted and saved to {output_text_path}\")"
   ]
  },
  {
   "cell_type": "markdown",
   "metadata": {},
   "source": [
    "#### Extract Images"
   ]
  },
  {
   "cell_type": "code",
   "execution_count": 13,
   "metadata": {},
   "outputs": [
    {
     "name": "stdout",
     "output_type": "stream",
     "text": [
      "Images have been extracted to ../data_export/file_pdf/extracted_images\n"
     ]
    }
   ],
   "source": [
    "def extract_images(pdf_path, target_image_path):\n",
    "    image_files = []\n",
    "\n",
    "    for i in range(len(document)):\n",
    "        page = document.load_page(i)\n",
    "        image_list = page.get_images(full=True)\n",
    "        \n",
    "        for image_index, img in enumerate(image_list):\n",
    "            xref = img[0]\n",
    "            base_image = document.extract_image(xref)\n",
    "            image_bytes = base_image[\"image\"]\n",
    "            image_path = target_image_path / f\"page_{i+1}_image_{image_index+1}.jpg\"\n",
    "            \n",
    "            with open(image_path, \"wb\") as f:\n",
    "                f.write(image_bytes)\n",
    "            \n",
    "            image_files.append(image_path)\n",
    "    \n",
    "    return image_files\n",
    "\n",
    "image_files = extract_images(pdf_path, target_image_path)\n",
    "print(f\"Images have been extracted to {target_image_path}\")"
   ]
  },
  {
   "cell_type": "markdown",
   "metadata": {},
   "source": [
    "### Extract paragraph details"
   ]
  },
  {
   "cell_type": "code",
   "execution_count": 14,
   "metadata": {},
   "outputs": [
    {
     "name": "stdout",
     "output_type": "stream",
     "text": [
      "Paragraph details have been extracted to ../data_export/file_pdf/extracted_paragraph_details/paragraph_details.json\n"
     ]
    }
   ],
   "source": [
    "def extract_paragraph_details(pdf_path):\n",
    "    doc = fitz.open(pdf_path)\n",
    "    paragraph_details = []\n",
    "\n",
    "    for page_num in range(len(doc)):\n",
    "        page = doc.load_page(page_num)\n",
    "        blocks = page.get_text(\"dict\")[\"blocks\"]\n",
    "        \n",
    "        for block in blocks:\n",
    "            if block[\"type\"] == 0:  # Text block\n",
    "                previous_span = None\n",
    "                paragraph_text = \"\"\n",
    "                font_details = []\n",
    "\n",
    "                for line in block[\"lines\"]:\n",
    "                    for span in line[\"spans\"]:\n",
    "                        text = span[\"text\"]\n",
    "                        font = span[\"font\"]\n",
    "                        size = span[\"size\"]\n",
    "                        color = span[\"color\"]\n",
    "                        flags = span[\"flags\"]\n",
    "\n",
    "                        # Determine formatting\n",
    "                        is_bold = \"Bold\" in font\n",
    "                        is_italic = \"Italic\" in font or \"Oblique\" in font\n",
    "\n",
    "                        current_span = {\n",
    "                            \"text\": text,\n",
    "                            \"font_name\": font,\n",
    "                            \"font_size\": size,\n",
    "                            \"color\": color,\n",
    "                            \"bold\": is_bold,\n",
    "                            \"italic\": is_italic\n",
    "                        }\n",
    "\n",
    "                        # Concatenate spans with the same formatting\n",
    "                        if previous_span and (previous_span[\"font_name\"] == current_span[\"font_name\"] and\n",
    "                                              previous_span[\"font_size\"] == current_span[\"font_size\"] and\n",
    "                                              previous_span[\"bold\"] == current_span[\"bold\"] and\n",
    "                                              previous_span[\"italic\"] == current_span[\"italic\"] and\n",
    "                                              previous_span[\"color\"] == current_span[\"color\"]):\n",
    "                            paragraph_text += text\n",
    "                            font_details[-1][\"text\"] += text\n",
    "                        else:\n",
    "                            if previous_span:\n",
    "                                paragraph_text += previous_span[\"text\"]\n",
    "                            font_details.append(current_span)\n",
    "                            previous_span = current_span\n",
    "\n",
    "                paragraph_details.append({\n",
    "                    \"page\": page_num + 1,\n",
    "                    \"line_content\": paragraph_text,\n",
    "                    \"font_details\": font_details\n",
    "                })\n",
    "\n",
    "    return paragraph_details\n",
    "\n",
    "def save_paragraph_details(paragraph_details, output_path):\n",
    "    with open(output_path, 'w', encoding='utf-8') as f:\n",
    "        json.dump(paragraph_details, f, ensure_ascii=False, indent=4)\n",
    "\n",
    "paragraph_details_output_path = target_paragraph_details_path / 'paragraph_details.json'\n",
    "paragraph_details = extract_paragraph_details(pdf_path)\n",
    "save_paragraph_details(paragraph_details, paragraph_details_output_path)\n",
    "print(f\"Paragraph details have been extracted to {paragraph_details_output_path}\")"
   ]
  },
  {
   "cell_type": "markdown",
   "metadata": {},
   "source": [
    "## Convert To Uppercase"
   ]
  },
  {
   "cell_type": "code",
   "execution_count": 15,
   "metadata": {},
   "outputs": [
    {
     "name": "stdout",
     "output_type": "stream",
     "text": [
      "New PDF with uppercase text has been saved to ../data_export/file_pdf/convert_uppercase/PDF_uppercase.pdf\n"
     ]
    }
   ],
   "source": [
    "def create_pdf_from_details(pdf_details, output_pdf_path):\n",
    "    c = canvas.Canvas(output_pdf_path.as_posix(), pagesize=letter)\n",
    "    width, height = letter\n",
    "\n",
    "    current_page = None\n",
    "    for detail in pdf_details:\n",
    "        page_num = detail['page']\n",
    "        \n",
    "        if current_page != page_num:\n",
    "            if current_page is not None:\n",
    "                c.showPage()\n",
    "            current_page = page_num\n",
    "            y = height - 30  \n",
    "            x = 30  \n",
    "\n",
    "        for line in detail['line_content'].split('\\n'):\n",
    "            if y < 30:  \n",
    "                c.showPage()\n",
    "                y = height - 30\n",
    "                x = 30\n",
    "\n",
    "            # Split the line into segments that fit within the page width\n",
    "            text_width = c.stringWidth(line, 'Helvetica', detail['font_details'][0]['font_size'])\n",
    "            if text_width > width - 2 * x:\n",
    "                chars_per_line = int(len(line) * (width - 2 * x) // text_width)\n",
    "                line_segments = [line[i:i + chars_per_line] for i in range(0, len(line), chars_per_line)]\n",
    "            else:\n",
    "                line_segments = [line]\n",
    "\n",
    "            for segment in line_segments:\n",
    "                for char_detail in detail['font_details']:\n",
    "                    color = char_detail['color']\n",
    "                    if isinstance(color, list) and len(color) == 3:\n",
    "                        r, g, b = color\n",
    "                    else:\n",
    "                        r = (color >> 16) & 0xFF\n",
    "                        g = (color >> 8) & 0xFF\n",
    "                        b = color & 0xFF\n",
    "                    c.setFillColorRGB(r / 255.0, g / 255.0, b / 255.0)\n",
    "\n",
    "                    if char_detail['bold']:\n",
    "                        c.setFont('Helvetica-Bold', char_detail['font_size'])\n",
    "                    else:\n",
    "                        c.setFont('Helvetica', char_detail['font_size'])\n",
    "\n",
    "                c.drawString(x, y, segment)\n",
    "                y -= detail['font_details'][0]['font_size'] * 1.2  # Adjust line spacing\n",
    "\n",
    "    c.save()\n",
    "\n",
    "with open(paragraph_details_output_path, 'r', encoding='utf-8') as f:\n",
    "    pdf_details = json.load(f)\n",
    "\n",
    "new_pdf_path = target_convert_uppercase_path / 'PDF_uppercase.pdf'\n",
    "\n",
    "create_pdf_from_details(pdf_details, new_pdf_path)\n",
    "\n",
    "print(f\"New PDF with uppercase text has been saved to {new_pdf_path}\")"
   ]
  }
 ],
 "metadata": {
  "kernelspec": {
   "display_name": ".venv",
   "language": "python",
   "name": "python3"
  },
  "language_info": {
   "codemirror_mode": {
    "name": "ipython",
    "version": 3
   },
   "file_extension": ".py",
   "mimetype": "text/x-python",
   "name": "python",
   "nbconvert_exporter": "python",
   "pygments_lexer": "ipython3",
   "version": "3.11.1"
  }
 },
 "nbformat": 4,
 "nbformat_minor": 2
}
