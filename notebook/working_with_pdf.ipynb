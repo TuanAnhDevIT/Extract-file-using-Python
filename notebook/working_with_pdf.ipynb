{
 "cells": [
  {
   "cell_type": "markdown",
   "metadata": {},
   "source": [
    "# Working With PDF"
   ]
  },
  {
   "cell_type": "markdown",
   "metadata": {},
   "source": [
    "## 1. Module import"
   ]
  },
  {
   "cell_type": "code",
   "execution_count": 64,
   "metadata": {},
   "outputs": [],
   "source": [
    "import pypdf\n",
    "from pypdf import PdfReader\n",
    "import pdfplumber\n",
    "import fitz\n",
    "from pathlib import Path"
   ]
  },
  {
   "cell_type": "markdown",
   "metadata": {},
   "source": [
    "## 2. Handling data"
   ]
  },
  {
   "cell_type": "code",
   "execution_count": 65,
   "metadata": {},
   "outputs": [],
   "source": [
    "pdf_path = '../data_import/pdf_mock_file.pdf'\n",
    "target_path = Path('../data_export/file_pdf')"
   ]
  },
  {
   "cell_type": "code",
   "execution_count": 66,
   "metadata": {},
   "outputs": [],
   "source": [
    "reader = PdfReader(pdf_path)\n",
    "for  i in range(len(reader.pages)):\n",
    "    page = reader.pages[i]"
   ]
  },
  {
   "cell_type": "code",
   "execution_count": 67,
   "metadata": {},
   "outputs": [
    {
     "name": "stdout",
     "output_type": "stream",
     "text": [
      "Extracted text has been saved to ../data_export/file_pdf/text/extracted_text.txt\n"
     ]
    }
   ],
   "source": [
    "target_text_path = target_path / \"text\"\n",
    "target_text_path.mkdir(parents=True, exist_ok=True)\n",
    "\n",
    "doc = fitz.open(pdf_path)\n",
    "\n",
    "all_text = \"\"\n",
    "\n",
    "for page in doc:\n",
    "    all_text += page.get_text()\n",
    "\n",
    "output_text_path = target_text_path / \"extracted_text.txt\"\n",
    "\n",
    "with open(output_text_path, 'w') as file:\n",
    "    file.write(all_text)\n",
    "\n",
    "doc.close()\n",
    "\n",
    "print(f\"Extracted text has been saved to {output_file_path}\")"
   ]
  },
  {
   "cell_type": "code",
   "execution_count": 68,
   "metadata": {},
   "outputs": [
    {
     "name": "stdout",
     "output_type": "stream",
     "text": [
      "Extracted images has been saved to ../data_export/file_pdf/images/page_2_image_5.jpg\n"
     ]
    }
   ],
   "source": [
    "target_images_path = target_path / \"images\"\n",
    "target_images_path.mkdir(parents=True, exist_ok=True)\n",
    "\n",
    "for i, page in enumerate(reader.pages):\n",
    "    for image_index, img in enumerate(page.images):\n",
    "        output_images_path = target_images_path / f\"page_{i}_image_{image_index}.jpg\"\n",
    "        with open(output_images_path, \"wb\") as f:\n",
    "            f.write(img.data)\n",
    "print(f\"Extracted images has been saved to {output_images_path}\")"
   ]
  },
  {
   "cell_type": "code",
   "execution_count": null,
   "metadata": {},
   "outputs": [],
   "source": []
  }
 ],
 "metadata": {
  "kernelspec": {
   "display_name": ".venv",
   "language": "python",
   "name": "python3"
  },
  "language_info": {
   "codemirror_mode": {
    "name": "ipython",
    "version": 3
   },
   "file_extension": ".py",
   "mimetype": "text/x-python",
   "name": "python",
   "nbconvert_exporter": "python",
   "pygments_lexer": "ipython3",
   "version": "3.11.1"
  }
 },
 "nbformat": 4,
 "nbformat_minor": 2
}
