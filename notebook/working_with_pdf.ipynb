{
 "cells": [
  {
   "cell_type": "markdown",
   "metadata": {},
   "source": [
    "# Working With PDF"
   ]
  },
  {
   "cell_type": "markdown",
   "metadata": {},
   "source": [
    "## 1. Module import"
   ]
  },
  {
   "cell_type": "code",
   "execution_count": 35,
   "metadata": {},
   "outputs": [],
   "source": [
    "from pypdf import PdfReader\n",
    "import fitz\n",
    "from pathlib import Path\n",
    "from pdfminer.high_level import extract_pages\n",
    "from pdfminer.layout import LTTextContainer, LTChar, LTTextLine\n",
    "from reportlab.lib.pagesizes import letter\n",
    "from reportlab.pdfgen import canvas\n",
    "from reportlab.lib.utils import simpleSplit\n",
    "import json\n",
    "import json\n"
   ]
  },
  {
   "cell_type": "markdown",
   "metadata": {},
   "source": [
    "## 2. Handling data"
   ]
  },
  {
   "cell_type": "markdown",
   "metadata": {},
   "source": [
    "## Task 1"
   ]
  },
  {
   "cell_type": "code",
   "execution_count": 2,
   "metadata": {},
   "outputs": [],
   "source": [
    "pdf_path = '../data_import/pdf_mock_file.pdf'\n",
    "target_path = Path('../data_export/file_pdf')"
   ]
  },
  {
   "cell_type": "code",
   "execution_count": 3,
   "metadata": {},
   "outputs": [],
   "source": [
    "reader = PdfReader(pdf_path)\n",
    "for  i in range(len(reader.pages)):\n",
    "    page = reader.pages[i]"
   ]
  },
  {
   "cell_type": "code",
   "execution_count": 4,
   "metadata": {},
   "outputs": [
    {
     "name": "stdout",
     "output_type": "stream",
     "text": [
      "Extracted text has been saved to ../data_export/file_pdf/text/extracted_text.txt\n"
     ]
    }
   ],
   "source": [
    "target_text_path = target_path / \"text\"\n",
    "target_text_path.mkdir(parents=True, exist_ok=True)\n",
    "\n",
    "doc = fitz.open(pdf_path)\n",
    "\n",
    "all_text = \"\"\n",
    "\n",
    "for page in doc:\n",
    "    all_text += page.get_text()\n",
    "\n",
    "output_text_path = target_text_path / \"extracted_text.txt\"\n",
    "\n",
    "with open(output_text_path, 'w', encoding='utf-8') as file:\n",
    "    file.write(all_text)\n",
    "\n",
    "doc.close()\n",
    "\n",
    "print(f\"Extracted text has been saved to {output_text_path}\")"
   ]
  },
  {
   "cell_type": "code",
   "execution_count": 6,
   "metadata": {},
   "outputs": [
    {
     "name": "stdout",
     "output_type": "stream",
     "text": [
      "Extracted images has been saved to ../data_export/file_pdf/images/page_2_image_5.jpg\n"
     ]
    }
   ],
   "source": [
    "target_images_path = target_path / \"images\"\n",
    "target_images_path.mkdir(parents=True, exist_ok=True)\n",
    "\n",
    "for i, page in enumerate(reader.pages):\n",
    "    for image_index, img in enumerate(page.images):\n",
    "        output_images_path = target_images_path / f\"page_{i}_image_{image_index}.jpg\"\n",
    "        with open(output_images_path, \"wb\") as f:\n",
    "            f.write(img.data)\n",
    "print(f\"Extracted images has been saved to {output_images_path}\")"
   ]
  },
  {
   "cell_type": "markdown",
   "metadata": {},
   "source": [
    "## Task 2"
   ]
  },
  {
   "cell_type": "code",
   "execution_count": 32,
   "metadata": {},
   "outputs": [
    {
     "name": "stdout",
     "output_type": "stream",
     "text": [
      "Extracted text details has been saved to ../data_export/file_pdf/text_details/pdf_details.json\n"
     ]
    }
   ],
   "source": [
    "target_text_details_path = target_path / \"text_details\"\n",
    "target_text_details_path.mkdir(parents=True, exist_ok=True)\n",
    "\n",
    "\n",
    "def extract_pdf_details(pdf_path, output_path):\n",
    "    pdf_details = []\n",
    "    for page_num, page_layout in enumerate(extract_pages(pdf_path), start=1):\n",
    "        previous_y = None\n",
    "        line_content = \"\"\n",
    "        font_details = []\n",
    "\n",
    "        for element in page_layout:\n",
    "            if isinstance(element, LTTextContainer):\n",
    "                for text_line in element:\n",
    "                    if isinstance(text_line, LTTextLine):\n",
    "                        current_y = text_line.y0\n",
    "                        if previous_y is not None and abs(previous_y - current_y) > 10:\n",
    "                            if line_content:\n",
    "                                pdf_details.append({\n",
    "                                    'page': page_num,\n",
    "                                    'line_content': line_content,\n",
    "                                    'font_details': font_details\n",
    "                                })\n",
    "                            line_content = \"\"\n",
    "                            font_details = []\n",
    "\n",
    "                        line_content += text_line.get_text()\n",
    "                        for character in text_line:\n",
    "                            if isinstance(character, LTChar):\n",
    "                                font_details.append({\n",
    "                                    'text': character.get_text(),\n",
    "                                    'font_name': character.fontname,\n",
    "                                    'font_size': character.size,\n",
    "                                    'color': character.graphicstate.ncolor,\n",
    "                                    'bold': 'Bold' in character.fontname,\n",
    "                                    'italic': 'Italic' in character.fontname\n",
    "                                })\n",
    "                        previous_y = current_y\n",
    "\n",
    "        if line_content:\n",
    "            pdf_details.append({\n",
    "                'page': page_num,\n",
    "                'line_content': line_content,\n",
    "                'font_details': font_details\n",
    "            })\n",
    "\n",
    "    with open(output_path, 'w', encoding='utf-8') as f:\n",
    "        json.dump(pdf_details, f, ensure_ascii=False, indent=4)\n",
    "\n",
    "output_file = target_text_details_path / \"pdf_details.json\"\n",
    "extract_pdf_details(pdf_path, output_file)\n",
    "\n",
    "print(f\"Extracted text details has been saved to {output_file}\")\n"
   ]
  },
  {
   "cell_type": "markdown",
   "metadata": {},
   "source": [
    "## Task 3"
   ]
  },
  {
   "cell_type": "code",
   "execution_count": 51,
   "metadata": {},
   "outputs": [
    {
     "name": "stdout",
     "output_type": "stream",
     "text": [
      "Uppercase text PDF has been saved to ../data_export/file_pdf/pdf_uppercase/uppercase_text.pdf\n"
     ]
    }
   ],
   "source": [
    "target_pdf_uppercase_path = target_path / \"pdf_uppercase\"\n",
    "target_pdf_uppercase_path.mkdir(parents=True, exist_ok=True)\n",
    "\n",
    "def create_pdf_from_details(pdf_details, output_pdf_path):\n",
    "    c = canvas.Canvas(output_pdf_path.as_posix(), pagesize=letter)\n",
    "    width, height = letter\n",
    "\n",
    "    current_page = None\n",
    "    for detail in pdf_details:\n",
    "        page_num = detail['page']\n",
    "        \n",
    "        if current_page != page_num:\n",
    "            if current_page is not None:\n",
    "                c.showPage()\n",
    "            current_page = page_num\n",
    "            y = height - 30  \n",
    "            x = 30  \n",
    "\n",
    "        for line in detail['line_content'].split('\\n'):\n",
    "            if y < 30:  \n",
    "                c.showPage()\n",
    "                y = height - 30\n",
    "                x = 30\n",
    "            \n",
    "            for char_detail in detail['font_details']:\n",
    "                \n",
    "                color = char_detail['color']\n",
    "                if isinstance(color, list) and len(color) == 3:\n",
    "                    r, g, b = color\n",
    "                else:\n",
    "                    r = g = b = color[0] if isinstance(color, list) else 0\n",
    "                c.setFillColorRGB(r, g, b)\n",
    "\n",
    "                if char_detail['bold']:\n",
    "                    c.setFont('Helvetica-Bold', char_detail['font_size'])\n",
    "                else:\n",
    "                    c.setFont('Helvetica', char_detail['font_size'])\n",
    "\n",
    "            c.drawString(x, y, line.upper())  \n",
    "            y -= 15\n",
    "\n",
    "    c.save()\n",
    "\n",
    "with open(output_file, 'r', encoding='utf-8') as f:\n",
    "    pdf_details = json.load(f)\n",
    "\n",
    "output_pdf_uppercase_file = target_pdf_uppercase_path / \"uppercase_text.pdf\"\n",
    "create_pdf_from_details(pdf_details, output_pdf_uppercase_file)\n",
    "\n",
    "print(f\"Uppercase text PDF has been saved to {output_pdf_uppercase_file}\")"
   ]
  },
  {
   "cell_type": "code",
   "execution_count": null,
   "metadata": {},
   "outputs": [],
   "source": []
  }
 ],
 "metadata": {
  "kernelspec": {
   "display_name": ".venv",
   "language": "python",
   "name": "python3"
  },
  "language_info": {
   "codemirror_mode": {
    "name": "ipython",
    "version": 3
   },
   "file_extension": ".py",
   "mimetype": "text/x-python",
   "name": "python",
   "nbconvert_exporter": "python",
   "pygments_lexer": "ipython3",
   "version": "3.11.1"
  }
 },
 "nbformat": 4,
 "nbformat_minor": 2
}
