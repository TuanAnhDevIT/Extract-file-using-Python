{
 "cells": [
  {
   "cell_type": "markdown",
   "metadata": {},
   "source": [
    "# Working With Doc"
   ]
  },
  {
   "cell_type": "markdown",
   "metadata": {},
   "source": [
    "## 1.Module Import"
   ]
  },
  {
   "cell_type": "code",
   "execution_count": 2,
   "metadata": {},
   "outputs": [],
   "source": [
    "from docx import Document\n",
    "import docx2txt\n",
    "import os\n",
    "from pathlib import Path"
   ]
  },
  {
   "cell_type": "markdown",
   "metadata": {},
   "source": [
    "## 2.Handling Data"
   ]
  },
  {
   "cell_type": "markdown",
   "metadata": {},
   "source": [
    "## Task 1"
   ]
  },
  {
   "cell_type": "code",
   "execution_count": 3,
   "metadata": {},
   "outputs": [],
   "source": [
    "doc_path = '../data_import/docx_mock_file.docx'\n",
    "target_path = Path('../data_export/file_docx')\n",
    "\n",
    "os.makedirs(target_path, exist_ok=True)"
   ]
  },
  {
   "cell_type": "markdown",
   "metadata": {},
   "source": [
    "#### Extract Text"
   ]
  },
  {
   "cell_type": "code",
   "execution_count": 4,
   "metadata": {},
   "outputs": [
    {
     "name": "stdout",
     "output_type": "stream",
     "text": [
      "Text has been extracted to ../data_export/file_docx/text/extracted_text.txt\n"
     ]
    }
   ],
   "source": [
    "target_text_path = target_path / 'text'\n",
    "\n",
    "def extract_text(doc_path):\n",
    "    doc = Document(doc_path)\n",
    "    text = []\n",
    "    for para in doc.paragraphs:\n",
    "        text.append(para.text)\n",
    "    return '\\n'.join(text)\n",
    "\n",
    "text = extract_text(doc_path)\n",
    "text_output_path = target_text_path / 'extracted_text.txt'\n",
    "with open(text_output_path, 'w', encoding='utf-8') as f:\n",
    "    f.write(text)\n",
    "\n",
    "print(f\"Text has been extracted to {text_output_path}\")"
   ]
  },
  {
   "cell_type": "code",
   "execution_count": 5,
   "metadata": {},
   "outputs": [
    {
     "name": "stdout",
     "output_type": "stream",
     "text": [
      "Text and tables have been extracted to ../data_export/file_docx/text/extracted_text_and_tables.txt\n"
     ]
    }
   ],
   "source": [
    "target_text_path = target_path / 'text'\n",
    "\n",
    "def extract_text_and_tables(doc_path):\n",
    "    doc = Document(doc_path)\n",
    "    text = []\n",
    "    \n",
    "    for para in doc.paragraphs:\n",
    "        text.append(para.text)\n",
    "    \n",
    "    for table in doc.tables:\n",
    "        for row in table.rows:\n",
    "            row_data = []\n",
    "            for cell in row.cells:\n",
    "                row_data.append(cell.text)\n",
    "            text.append('\\t'.join(row_data))\n",
    "    \n",
    "    return '\\n'.join(text)\n",
    "\n",
    "text = extract_text_and_tables(doc_path)\n",
    "text_output_path = target_text_path / 'extracted_text_and_tables.txt'\n",
    "with open(text_output_path, 'w', encoding='utf-8') as f:\n",
    "    f.write(text)\n",
    "\n",
    "print(f\"Text and tables have been extracted to {text_output_path}\")"
   ]
  },
  {
   "cell_type": "code",
   "execution_count": null,
   "metadata": {},
   "outputs": [],
   "source": []
  }
 ],
 "metadata": {
  "kernelspec": {
   "display_name": "myenv",
   "language": "python",
   "name": "python3"
  },
  "language_info": {
   "codemirror_mode": {
    "name": "ipython",
    "version": 3
   },
   "file_extension": ".py",
   "mimetype": "text/x-python",
   "name": "python",
   "nbconvert_exporter": "python",
   "pygments_lexer": "ipython3",
   "version": "3.11.1"
  }
 },
 "nbformat": 4,
 "nbformat_minor": 2
}
