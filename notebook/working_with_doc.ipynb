{
 "cells": [
  {
   "cell_type": "markdown",
   "metadata": {},
   "source": [
    "# Working With Doc"
   ]
  },
  {
   "cell_type": "markdown",
   "metadata": {},
   "source": [
    "## 1.Module Import"
   ]
  },
  {
   "cell_type": "code",
   "execution_count": 35,
   "metadata": {},
   "outputs": [],
   "source": [
    "from docx import Document\n",
    "import os\n",
    "from pathlib import Path\n",
    "from docx.shared import Inches\n",
    "from docx.oxml.ns import qn\n",
    "from docx.shared import RGBColor\n",
    "import json\n"
   ]
  },
  {
   "cell_type": "markdown",
   "metadata": {},
   "source": [
    "## 2.Handling Data"
   ]
  },
  {
   "cell_type": "markdown",
   "metadata": {},
   "source": [
    "## Task 1"
   ]
  },
  {
   "cell_type": "code",
   "execution_count": 36,
   "metadata": {},
   "outputs": [],
   "source": [
    "doc_path = Path('../data_import/docx_mock_file.docx')\n",
    "target_path = Path('../data_export/file_docx')\n",
    "\n",
    "target_text_path = target_path / 'text'\n",
    "target_paragraph_details_path = target_path / 'paragraph_details'\n",
    "target_convert_uppercase_path = target_path / 'convert_uppercase' \n",
    "\n",
    "os.makedirs(target_path, exist_ok=True)\n",
    "os.makedirs(target_paragraph_details_path, exist_ok=True)\n",
    "os.makedirs(target_convert_uppercase_path, exist_ok=True)"
   ]
  },
  {
   "cell_type": "markdown",
   "metadata": {},
   "source": [
    "#### Extract Text"
   ]
  },
  {
   "cell_type": "code",
   "execution_count": 37,
   "metadata": {},
   "outputs": [
    {
     "name": "stdout",
     "output_type": "stream",
     "text": [
      "Text and tables have been extracted to ../data_export/file_docx/text/extracted_text_and_tables.txt\n"
     ]
    }
   ],
   "source": [
    "target_text_path = target_path / 'text'\n",
    "\n",
    "def extract_text_and_tables(doc_path):\n",
    "    doc = Document(doc_path)\n",
    "    text = []\n",
    "    \n",
    "    for para in doc.paragraphs:\n",
    "        text.append(para.text)\n",
    "    \n",
    "    for table in doc.tables:\n",
    "        for row in table.rows:\n",
    "            row_data = []\n",
    "            for cell in row.cells:\n",
    "                row_data.append(cell.text)\n",
    "            text.append('\\t'.join(row_data))\n",
    "    \n",
    "    return '\\n'.join(text)\n",
    "\n",
    "text = extract_text_and_tables(doc_path)\n",
    "text_output_path = target_text_path / 'extracted_text_and_tables.txt'\n",
    "with open(text_output_path, 'w', encoding='utf-8') as f:\n",
    "    f.write(text)\n",
    "\n",
    "print(f\"Text and tables have been extracted to {text_output_path}\")"
   ]
  },
  {
   "cell_type": "markdown",
   "metadata": {},
   "source": [
    "### Extract paragraph details"
   ]
  },
  {
   "cell_type": "code",
   "execution_count": 38,
   "metadata": {},
   "outputs": [
    {
     "name": "stdout",
     "output_type": "stream",
     "text": [
      "Paragraph details have been extracted to ../data_export/file_docx/paragraph_details/paragraph_details.json\n"
     ]
    }
   ],
   "source": [
    "def rgb_to_hex(rgb):\n",
    "    return '{:02x}{:02x}{:02x}'.format(rgb[0], rgb[1], rgb[2])\n",
    "\n",
    "def extract_paragraph_details(doc_path):\n",
    "    doc = Document(doc_path)\n",
    "    paragraph_details = []\n",
    "\n",
    "    for para in doc.paragraphs:\n",
    "        runs = para.runs\n",
    "        para_text = para.text\n",
    "        para_details = {\n",
    "            \"text\": para_text,\n",
    "            \"runs\": []\n",
    "        }\n",
    "\n",
    "        for run in runs:\n",
    "            font = run.font\n",
    "            if font.color and font.color.rgb:\n",
    "                color = font.color.rgb\n",
    "                color_hex = rgb_to_hex(color)\n",
    "            else:\n",
    "                color_hex = \"000000\" \n",
    "\n",
    "            run_details = {\n",
    "                \"text\": run.text,\n",
    "                \"font_name\": font.name,\n",
    "                \"font_size\": font.size.pt if font.size else None,\n",
    "                \"bold\": font.bold,\n",
    "                \"italic\": font.italic,\n",
    "                \"underline\": font.underline,\n",
    "                \"color\": color_hex\n",
    "            }\n",
    "            para_details[\"runs\"].append(run_details)\n",
    "\n",
    "        paragraph_details.append(para_details)\n",
    "\n",
    "    return paragraph_details\n",
    "\n",
    "def save_paragraph_details(paragraph_details, output_path):\n",
    "    with open(output_path, 'w', encoding='utf-8') as f:\n",
    "        json.dump(paragraph_details, f, ensure_ascii=False, indent=4)\n",
    "\n",
    "paragraph_details_output_path = target_paragraph_details_path / 'paragraph_details.json'\n",
    "paragraph_details = extract_paragraph_details(doc_path)\n",
    "save_paragraph_details(paragraph_details, paragraph_details_output_path)\n",
    "print(f\"Paragraph details have been extracted to {paragraph_details_output_path}\")"
   ]
  },
  {
   "cell_type": "code",
   "execution_count": 39,
   "metadata": {},
   "outputs": [
    {
     "name": "stdout",
     "output_type": "stream",
     "text": [
      "Paragraph details have been extracted to ../data_export/file_docx/paragraph_details/paragraph_details.json\n"
     ]
    }
   ],
   "source": [
    "def rgb_to_hex(rgb):\n",
    "    return '{:02x}{:02x}{:02x}'.format(rgb[0], rgb[1], rgb[2])\n",
    "\n",
    "def extract_paragraph_details(doc_path):\n",
    "    doc = Document(doc_path)\n",
    "    details = []\n",
    "\n",
    "    for para in doc.paragraphs:\n",
    "        details.extend(extract_run_details_from_element(para.runs, para.text))\n",
    "\n",
    "    for table in doc.tables:\n",
    "        for row in table.rows:\n",
    "            for cell in row.cells:\n",
    "                for para in cell.paragraphs:\n",
    "                    details.extend(extract_run_details_from_element(para.runs, para.text))\n",
    "\n",
    "    return details\n",
    "\n",
    "def extract_run_details_from_element(runs, text):\n",
    "    element_details = []\n",
    "\n",
    "    element_details.append({\n",
    "        \"text\": text,\n",
    "        \"runs\": []\n",
    "    })\n",
    "\n",
    "    for run in runs:\n",
    "        font = run.font\n",
    "        if font.color and font.color.rgb:\n",
    "            color = font.color.rgb\n",
    "            color_hex = rgb_to_hex(color)\n",
    "        else:\n",
    "            color_hex = \"000000\" \n",
    "\n",
    "        run_details = {\n",
    "            \"text\": run.text,\n",
    "            \"font_name\": font.name,\n",
    "            \"font_size\": font.size.pt if font.size else None,\n",
    "            \"bold\": font.bold,\n",
    "            \"italic\": font.italic,\n",
    "            \"underline\": font.underline,\n",
    "            \"color\": color_hex\n",
    "        }\n",
    "        element_details[-1][\"runs\"].append(run_details)\n",
    "\n",
    "    return element_details\n",
    "\n",
    "def save_paragraph_details(paragraph_details, output_path):\n",
    "    with open(output_path, 'w', encoding='utf-8') as f:\n",
    "        json.dump(paragraph_details, f, ensure_ascii=False, indent=4)\n",
    "\n",
    "paragraph_details_output_path = target_paragraph_details_path / 'paragraph_details.json'\n",
    "paragraph_details = extract_paragraph_details(doc_path)\n",
    "save_paragraph_details(paragraph_details, paragraph_details_output_path)\n",
    "print(f\"Paragraph details have been extracted to {paragraph_details_output_path}\")"
   ]
  },
  {
   "cell_type": "markdown",
   "metadata": {},
   "source": [
    "## Convert To Uppercase"
   ]
  },
  {
   "cell_type": "code",
   "execution_count": 40,
   "metadata": {},
   "outputs": [
    {
     "name": "stdout",
     "output_type": "stream",
     "text": [
      "The document with uppercase text has been created at ../data_export/file_docx/convert_uppercase/converted_docx_mock_file.docx\n"
     ]
    }
   ],
   "source": [
    "output_doc_path = target_convert_uppercase_path / 'converted_docx_mock_file.docx'\n",
    "\n",
    "def create_uppercase_doc(doc_path, output_doc_path):\n",
    "    doc = Document(doc_path)\n",
    "    new_doc = Document()\n",
    "\n",
    "    def copy_run_formatting(src_run, dst_run):\n",
    "        dst_run.bold = src_run.bold\n",
    "        dst_run.italic = src_run.italic\n",
    "        dst_run.underline = src_run.underline\n",
    "        if src_run.font.size:\n",
    "            dst_run.font.size = src_run.font.size\n",
    "        if src_run.font.name:\n",
    "            dst_run.font.name = src_run.font.name\n",
    "        if src_run.font.color and src_run.font.color.rgb:\n",
    "            dst_run.font.color.rgb = src_run.font.color.rgb\n",
    "\n",
    "    for para in doc.paragraphs:\n",
    "        new_para = new_doc.add_paragraph()\n",
    "        for run in para.runs:\n",
    "            new_run = new_para.add_run(run.text.upper())\n",
    "            copy_run_formatting(run, new_run)\n",
    "\n",
    "    for table in doc.tables:\n",
    "        new_table = new_doc.add_table(rows=len(table.rows), cols=len(table.columns))\n",
    "        new_table.style = table.style\n",
    "        for row_idx, row in enumerate(table.rows):\n",
    "            for cell_idx, cell in enumerate(row.cells):\n",
    "                new_cell = new_table.cell(row_idx, cell_idx)\n",
    "                for para in cell.paragraphs:\n",
    "                    new_para = new_cell.add_paragraph()\n",
    "                    for run in para.runs:\n",
    "                        new_run = new_para.add_run(run.text.upper())\n",
    "                        copy_run_formatting(run, new_run)\n",
    "\n",
    "    new_doc.save(output_doc_path)\n",
    "\n",
    "create_uppercase_doc(doc_path, output_doc_path)\n",
    "print(f\"The document with uppercase text has been created at {output_doc_path}\")"
   ]
  },
  {
   "cell_type": "code",
   "execution_count": null,
   "metadata": {},
   "outputs": [],
   "source": []
  }
 ],
 "metadata": {
  "kernelspec": {
   "display_name": "myenv",
   "language": "python",
   "name": "python3"
  },
  "language_info": {
   "codemirror_mode": {
    "name": "ipython",
    "version": 3
   },
   "file_extension": ".py",
   "mimetype": "text/x-python",
   "name": "python",
   "nbconvert_exporter": "python",
   "pygments_lexer": "ipython3",
   "version": "3.11.1"
  }
 },
 "nbformat": 4,
 "nbformat_minor": 2
}
